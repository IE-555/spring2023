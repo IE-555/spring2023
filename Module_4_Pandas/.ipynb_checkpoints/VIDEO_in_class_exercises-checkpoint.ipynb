{
 "cells": [
  {
   "cell_type": "markdown",
   "metadata": {},
   "source": [
    "# Pandas Examples"
   ]
  },
  {
   "cell_type": "markdown",
   "metadata": {},
   "source": [
    "---\n",
    "## Example 1 - Product Demand"
   ]
  },
  {
   "cell_type": "code",
   "execution_count": null,
   "metadata": {},
   "outputs": [],
   "source": [
    "import pandas as pd\n",
    "import numpy as np"
   ]
  },
  {
   "cell_type": "code",
   "execution_count": null,
   "metadata": {},
   "outputs": [],
   "source": [
    "# Create a list of products and a list of demands\n",
    "products = ['Product 1', 'Product 2', 'Product 4', 'Product 6']\n",
    "demands = [29, 17, 42, 21]"
   ]
  },
  {
   "cell_type": "code",
   "execution_count": null,
   "metadata": {},
   "outputs": [],
   "source": [
    "# zip() takes arguments of 2 (or more) lists, of equal lengths.\n",
    "# It combines the nth element of each list.\n",
    "# We add list() to the beginning to be able to see the result.\n",
    "list(zip(products, demands))"
   ]
  },
  {
   "cell_type": "code",
   "execution_count": null,
   "metadata": {},
   "outputs": [],
   "source": [
    "# Create a data set from these two lists\n",
    "productDataset = list(zip(products, demands))\n",
    "productDataset"
   ]
  },
  {
   "cell_type": "code",
   "execution_count": null,
   "metadata": {},
   "outputs": [],
   "source": [
    "# Create a pandas dataframe\n",
    "df = pd.DataFrame(data=productDataset, columns=['Product Name', 'Demand'])\n",
    "df"
   ]
  },
  {
   "cell_type": "markdown",
   "metadata": {},
   "source": [
    "#### 1) Print just the column of product names:"
   ]
  },
  {
   "cell_type": "code",
   "execution_count": null,
   "metadata": {},
   "outputs": [],
   "source": [
    "df['Product Name']"
   ]
  },
  {
   "cell_type": "markdown",
   "metadata": {},
   "source": [
    "#### 2) Print the demand column first, and the product name column second:"
   ]
  },
  {
   "cell_type": "code",
   "execution_count": null,
   "metadata": {},
   "outputs": [],
   "source": [
    "df[['Demand', 'Product Name']]"
   ]
  },
  {
   "cell_type": "markdown",
   "metadata": {},
   "source": [
    "#### 3) Print only the first 2 rows of data:"
   ]
  },
  {
   "cell_type": "code",
   "execution_count": null,
   "metadata": {},
   "outputs": [],
   "source": [
    "df[:2]"
   ]
  },
  {
   "cell_type": "markdown",
   "metadata": {},
   "source": [
    "#### 4) Print only the first 2 rows, and only the demand column:\n",
    "- I'm showing several ways to accomplish the same result below."
   ]
  },
  {
   "cell_type": "code",
   "execution_count": null,
   "metadata": {},
   "outputs": [],
   "source": [
    "# Here's one way to do it, wrapping the 'Demand' column \n",
    "# inside a nested list:\n",
    "df[:2][['Demand']]\n",
    "\n",
    "# NOTE:  If you want to display more than 1 column, you MUST\n",
    "#        use the nested list syntax."
   ]
  },
  {
   "cell_type": "code",
   "execution_count": null,
   "metadata": {},
   "outputs": [],
   "source": [
    "# Here's another way.\n",
    "# Since we only want to display 1 column, we don't need\n",
    "# to wrap 'Demand' inside a nested list:\n",
    "df[:2]['Demand']"
   ]
  },
  {
   "cell_type": "code",
   "execution_count": null,
   "metadata": {},
   "outputs": [],
   "source": [
    "# Pandas is smart enough to differentiate between rows and \n",
    "# columns, since our rows are using default (integer) indices:\n",
    "df['Demand'][:2]"
   ]
  },
  {
   "cell_type": "code",
   "execution_count": null,
   "metadata": {},
   "outputs": [],
   "source": [
    "# Similarly, we can apply the nested list for 'Demand':\n",
    "df[['Demand']][:2]"
   ]
  },
  {
   "cell_type": "markdown",
   "metadata": {},
   "source": [
    "#### 5) Print only the last 2 rows of data.  Print the demand column before the product name column.\n",
    "- I'm showing two different ways to do this below.\n",
    "- Of course there are other ways to do it as well."
   ]
  },
  {
   "cell_type": "code",
   "execution_count": null,
   "metadata": {},
   "outputs": [],
   "source": [
    "# Print only the last 2 rows of data:\n",
    "df.iloc[-2:][['Demand', 'Product Name']]"
   ]
  },
  {
   "cell_type": "code",
   "execution_count": null,
   "metadata": {},
   "outputs": [],
   "source": [
    "df[['Demand', 'Product Name']][-2:]"
   ]
  },
  {
   "cell_type": "markdown",
   "metadata": {},
   "source": [
    "#### 6) Sort the products according to decreasing demand:"
   ]
  },
  {
   "cell_type": "code",
   "execution_count": null,
   "metadata": {},
   "outputs": [],
   "source": [
    "df.sort_values(['Demand'], ascending=False)"
   ]
  },
  {
   "cell_type": "markdown",
   "metadata": {},
   "source": [
    "#### 7)  Find the product with the maximum demand\n",
    "- **NOTE**:  We want to save both the product name and the corresponding maximum demand to variables (so we can make use of this info later).  \n",
    "- Do not use \"for\" loops."
   ]
  },
  {
   "cell_type": "code",
   "execution_count": null,
   "metadata": {},
   "outputs": [],
   "source": [
    "# Approach #1:\n",
    "\n",
    "# We'll start by creating a new dataframe that has the demand\n",
    "# values sorted in DESCENDING order.\n",
    "# Using .head(1) will give us the first row (which corresponds\n",
    "# to the maximum demand):\n",
    "df1 = df.sort_values(['Demand'], ascending=False).head(1)\n",
    "df1\n",
    "\n",
    "# NOTE: If we had two products that had the maximum demand,\n",
    "#       this approach would only get one of them."
   ]
  },
  {
   "cell_type": "code",
   "execution_count": null,
   "metadata": {},
   "outputs": [],
   "source": [
    "# Next, we'll extract the product name and demand values:\n",
    "myProd   = df1['Product Name'].values[0]\n",
    "myDemand = df1['Demand'].values[0]\n",
    "myProd, myDemand"
   ]
  },
  {
   "cell_type": "code",
   "execution_count": null,
   "metadata": {},
   "outputs": [],
   "source": [
    "myProd"
   ]
  },
  {
   "cell_type": "markdown",
   "metadata": {},
   "source": [
    "The 5 cells below show what happens if you don't use `.values[0]`."
   ]
  },
  {
   "cell_type": "code",
   "execution_count": null,
   "metadata": {},
   "outputs": [],
   "source": [
    "# NOTE:  If we hadn't used .values[0] above, we'd get lists.\n",
    "# For example:\n",
    "myProdList   = df1['Product Name'].values\n",
    "myDemandList = df1['Demand'].values"
   ]
  },
  {
   "cell_type": "code",
   "execution_count": null,
   "metadata": {},
   "outputs": [],
   "source": [
    "# Instead of getting a scalar product name, we get a pandas object:\n",
    "myProdList"
   ]
  },
  {
   "cell_type": "code",
   "execution_count": null,
   "metadata": {},
   "outputs": [],
   "source": [
    "# We can access the product name like we would with a list:\n",
    "myProdList[0]"
   ]
  },
  {
   "cell_type": "code",
   "execution_count": null,
   "metadata": {},
   "outputs": [],
   "source": [
    "# Displaying \"myProdList\" explicitly as a list:\n",
    "list(myProdList)"
   ]
  },
  {
   "cell_type": "code",
   "execution_count": null,
   "metadata": {},
   "outputs": [],
   "source": [
    "# We could then get a scalar like this:\n",
    "list(myProdList)[0]"
   ]
  },
  {
   "cell_type": "code",
   "execution_count": null,
   "metadata": {},
   "outputs": [],
   "source": [
    "# Approach #2:\n",
    "\n",
    "# We'll first find the maximum demand:\n",
    "maxDemand  = df['Demand'].max()\n",
    "\n",
    "# Then, we'll filter for ALL products that share the max demand.\n",
    "# Using .values gives us a list (not a scalar)\n",
    "maxProductList = df['Product Name'][df['Demand'] == df['Demand'].max()].values\n",
    "\n",
    "# NOTE:  This is better than Approach #1, since we can find\n",
    "#        multiple products."
   ]
  },
  {
   "cell_type": "code",
   "execution_count": null,
   "metadata": {},
   "outputs": [],
   "source": [
    "# maxDemand is a scalar:\n",
    "maxDemand"
   ]
  },
  {
   "cell_type": "code",
   "execution_count": null,
   "metadata": {},
   "outputs": [],
   "source": [
    "# maxProductList is a list (in this case it only has 1 element):\n",
    "maxProductList"
   ]
  },
  {
   "cell_type": "code",
   "execution_count": null,
   "metadata": {},
   "outputs": [],
   "source": [
    "# It looks better when formatted as a list:\n",
    "list(maxProductList)"
   ]
  },
  {
   "cell_type": "code",
   "execution_count": null,
   "metadata": {},
   "outputs": [],
   "source": [
    "# Approach #3:\n",
    "\n",
    "# Here, we'll get an array of lists \n",
    "# containing both the product name and the max demand:\n",
    "result = df[['Product Name', 'Demand']][df['Demand'] == df['Demand'].max()].values\n",
    "result"
   ]
  },
  {
   "cell_type": "code",
   "execution_count": null,
   "metadata": {},
   "outputs": [],
   "source": [
    "# Since we only have 1 matching product, we can filter for the \n",
    "# first (only) outer list, and then look for the first element \n",
    "# in that list:\n",
    "productList = result[0][0]\n",
    "productList"
   ]
  },
  {
   "cell_type": "code",
   "execution_count": null,
   "metadata": {},
   "outputs": [],
   "source": [
    "# Similarly, the demand is found in the second position of the \n",
    "# first (only) outer list:\n",
    "maxDemand = result[0][1]\n",
    "maxDemand"
   ]
  },
  {
   "cell_type": "code",
   "execution_count": null,
   "metadata": {},
   "outputs": [],
   "source": [
    "# NOTE:  The nice thing about Approach 3 is that it can handle \n",
    "#        multiple products. \n",
    "#        For example, suppose we look for all products LESS than\n",
    "#        the maximum demand:\n",
    "result2 = df[['Product Name', 'Demand']][df['Demand'] < df['Demand'].max()].values\n",
    "result2"
   ]
  },
  {
   "cell_type": "code",
   "execution_count": null,
   "metadata": {},
   "outputs": [],
   "source": [
    "print(result2[0][0])\n",
    "print(result2[1][0])\n",
    "print(result2[2][0])"
   ]
  },
  {
   "cell_type": "markdown",
   "metadata": {},
   "source": [
    "#### 8)  Add a new column of data, named 'Sales Price'\n",
    "- Assign the values as numpy NaN for now"
   ]
  },
  {
   "cell_type": "code",
   "execution_count": null,
   "metadata": {},
   "outputs": [],
   "source": [
    "df['Sales Price'] = np.nan\n",
    "df"
   ]
  },
  {
   "cell_type": "markdown",
   "metadata": {},
   "source": [
    "#### 9) Assign the following prices to your new column"
   ]
  },
  {
   "cell_type": "code",
   "execution_count": null,
   "metadata": {},
   "outputs": [],
   "source": [
    "prices = [1.99, 2.50, 0.99, 3.75]"
   ]
  },
  {
   "cell_type": "code",
   "execution_count": null,
   "metadata": {},
   "outputs": [],
   "source": [
    "df['Sales Price'] = prices\n",
    "df"
   ]
  },
  {
   "cell_type": "markdown",
   "metadata": {},
   "source": [
    "#### 10)  Add another column named 'Cost', with the following values"
   ]
  },
  {
   "cell_type": "code",
   "execution_count": null,
   "metadata": {},
   "outputs": [],
   "source": [
    "costs = [1.0, 2.0, 0.5, 2.25]"
   ]
  },
  {
   "cell_type": "code",
   "execution_count": null,
   "metadata": {},
   "outputs": [],
   "source": [
    "df['Cost'] = costs\n",
    "df"
   ]
  },
  {
   "cell_type": "markdown",
   "metadata": {},
   "source": [
    "#### 11) Add yet another column named 'Profit'\n",
    "- Profit = (sales price) - (cost)"
   ]
  },
  {
   "cell_type": "code",
   "execution_count": null,
   "metadata": {},
   "outputs": [],
   "source": [
    "df['Profit'] = df['Sales Price'] - df['Cost']\n",
    "df"
   ]
  },
  {
   "cell_type": "markdown",
   "metadata": {},
   "source": [
    "#### 12)  Add a row of data\n",
    "**Product 9 has a demand of 99, a sales price of 9.99, a cost of 8.88, and a profit of 1.11**"
   ]
  },
  {
   "cell_type": "code",
   "execution_count": null,
   "metadata": {},
   "outputs": [],
   "source": [
    "df.loc[len(df)] = ['Product 9', 99, 9.99, 8.88, 1.11]\n",
    "df"
   ]
  },
  {
   "cell_type": "markdown",
   "metadata": {},
   "source": [
    "#### 13) Delete the Sales Price column"
   ]
  },
  {
   "cell_type": "code",
   "execution_count": null,
   "metadata": {},
   "outputs": [],
   "source": [
    "del df['Sales Price']\n",
    "df"
   ]
  },
  {
   "cell_type": "markdown",
   "metadata": {},
   "source": [
    "#### 14) Make Product Name an index"
   ]
  },
  {
   "cell_type": "code",
   "execution_count": null,
   "metadata": {},
   "outputs": [],
   "source": [
    "df.index = df['Product Name']\n",
    "df"
   ]
  },
  {
   "cell_type": "markdown",
   "metadata": {},
   "source": [
    "#### 15)  Filter just for Product 4"
   ]
  },
  {
   "cell_type": "code",
   "execution_count": null,
   "metadata": {},
   "outputs": [],
   "source": [
    "df.loc['Product 4']"
   ]
  },
  {
   "cell_type": "markdown",
   "metadata": {},
   "source": [
    "#### 16) Filter for products 1 through 4"
   ]
  },
  {
   "cell_type": "code",
   "execution_count": null,
   "metadata": {},
   "outputs": [],
   "source": [
    "df.loc['Product 1':'Product 4']"
   ]
  },
  {
   "cell_type": "markdown",
   "metadata": {},
   "source": [
    "---\n",
    "\n",
    "## Example 2 -- Daily Show Guests"
   ]
  },
  {
   "cell_type": "code",
   "execution_count": null,
   "metadata": {
    "scrolled": true
   },
   "outputs": [],
   "source": [
    "# Import the Daily Show guest list\n",
    "csvFile = 'daily_show_guests.csv'\n",
    "df = pd.read_csv(csvFile)\n",
    "df"
   ]
  },
  {
   "cell_type": "code",
   "execution_count": null,
   "metadata": {},
   "outputs": [],
   "source": [
    "df.dtypes"
   ]
  },
  {
   "cell_type": "code",
   "execution_count": null,
   "metadata": {},
   "outputs": [],
   "source": [
    "# Convert the 'Show' date (d/m/YY) to a pandas datestamp\n",
    "df['date'] = pd.to_datetime(df['Show'], infer_datetime_format=True)\n",
    "df.head()"
   ]
  },
  {
   "cell_type": "code",
   "execution_count": null,
   "metadata": {},
   "outputs": [],
   "source": [
    "# Check out the documentation:\n",
    "pd.to_datetime?"
   ]
  },
  {
   "cell_type": "code",
   "execution_count": null,
   "metadata": {},
   "outputs": [],
   "source": [
    "# We're going to add some new columns to make it easier \n",
    "# for us to filter the data later (based on date elements):\n",
    "df['Year'] = pd.DatetimeIndex(df['date']).year\n",
    "df['Month'] = pd.DatetimeIndex(df['date']).month\n",
    "df['Day'] = pd.DatetimeIndex(df['date']).day\n",
    "\n",
    "# .weekday gives us integer values (0 is Monday, 6 is Sunday):\n",
    "df['Weekday'] = pd.DatetimeIndex(df['date']).weekday\n",
    "\n",
    "# .weekday_name gives us text strings:\n",
    "df['WeekdayName'] = pd.DatetimeIndex(df['date']).weekday_name\n",
    "df.head()"
   ]
  },
  {
   "cell_type": "code",
   "execution_count": null,
   "metadata": {},
   "outputs": [],
   "source": [
    "# Make the date an index:\n",
    "df.index = df['date']\n",
    "df.index.weekday"
   ]
  },
  {
   "cell_type": "code",
   "execution_count": null,
   "metadata": {},
   "outputs": [],
   "source": [
    "# Get some general information about our dataframe:\n",
    "df['Group'].describe()"
   ]
  },
  {
   "cell_type": "code",
   "execution_count": null,
   "metadata": {},
   "outputs": [],
   "source": [
    "# How many records do we have?\n",
    "len(df)"
   ]
  },
  {
   "cell_type": "markdown",
   "metadata": {},
   "source": [
    "- **NOTE**:  \n",
    "    - The `df['Group'].describe()` function says there are 2662 rows with a defined (i.e., non-null) 'Group' value.\n",
    "    - However, `len(df)` tells us there are 2693 rows.  This means we have some records without a 'Group' defined."
   ]
  },
  {
   "cell_type": "code",
   "execution_count": null,
   "metadata": {},
   "outputs": [],
   "source": [
    "# Create groups:\n",
    "group = df.groupby('Group').size()\n",
    "group"
   ]
  },
  {
   "cell_type": "code",
   "execution_count": null,
   "metadata": {},
   "outputs": [],
   "source": [
    "# How many groups do we have?\n",
    "len(group)"
   ]
  },
  {
   "cell_type": "markdown",
   "metadata": {},
   "source": [
    "**NOTE:** We have a 'Media' group and a 'media' group. \n",
    "- These are probably the same...someone just forgot to capitalize 'media'.  Let's clean up our data."
   ]
  },
  {
   "cell_type": "code",
   "execution_count": null,
   "metadata": {},
   "outputs": [],
   "source": [
    "# First, let's display the records where 'Group' equals 'media':\n",
    "df.loc[df['Group'] == 'media','Group']"
   ]
  },
  {
   "cell_type": "code",
   "execution_count": null,
   "metadata": {},
   "outputs": [],
   "source": [
    "# We could also DISPLAY the results like this:\n",
    "df['Group'][df['Group'] == 'media']"
   ]
  },
  {
   "cell_type": "code",
   "execution_count": null,
   "metadata": {
    "scrolled": true
   },
   "outputs": [],
   "source": [
    "# Now, let's actually correct the error:\n",
    "df.loc[df['Group'] == 'media','Group'] = 'Media'\n",
    "df"
   ]
  },
  {
   "cell_type": "code",
   "execution_count": null,
   "metadata": {},
   "outputs": [],
   "source": [
    "# NOTE:  Pandas complains about this syntax:\n",
    "# df['Group'][df['Group'] == 'media'] = 'Media'\n",
    "# df"
   ]
  },
  {
   "cell_type": "code",
   "execution_count": null,
   "metadata": {},
   "outputs": [],
   "source": [
    "# Let's make sure we corrected the issue.\n",
    "# This shouldn't return any results\n",
    "df.loc[df['Group'] == 'media']"
   ]
  },
  {
   "cell_type": "code",
   "execution_count": null,
   "metadata": {},
   "outputs": [],
   "source": [
    "# Let's do some more checking:\n",
    "df.loc[df['Group'] == 'Media']"
   ]
  },
  {
   "cell_type": "code",
   "execution_count": null,
   "metadata": {},
   "outputs": [],
   "source": [
    "# Alternatively:\n",
    "df[df['Group'] == 'Media']"
   ]
  },
  {
   "cell_type": "code",
   "execution_count": null,
   "metadata": {
    "scrolled": false
   },
   "outputs": [],
   "source": [
    "# Let's compare the difference between .size() and .count():\n",
    "df.groupby('Group').size()\n",
    "\n",
    "# .size() gives us a data series with the number of records \n",
    "# for each 'Group' value."
   ]
  },
  {
   "cell_type": "code",
   "execution_count": null,
   "metadata": {},
   "outputs": [],
   "source": [
    "df.groupby('Group').count()\n",
    "\n",
    "# .count() returns all of the columns of the dataframe, with \n",
    "# a count of the number of occurrances for each group."
   ]
  },
  {
   "cell_type": "code",
   "execution_count": null,
   "metadata": {},
   "outputs": [],
   "source": [
    "# Create a new DataFrame with just group count info:\n",
    "counts_df = pd.DataFrame(df.groupby('Group').size().rename('counts'))\n",
    "counts_df"
   ]
  },
  {
   "cell_type": "code",
   "execution_count": null,
   "metadata": {},
   "outputs": [],
   "source": [
    "# Create a plot of these counts\n",
    "import matplotlib.pyplot as plt\n",
    "\n",
    "Sorted = counts_df.sort_values(['counts'], ascending=False)\n",
    "Sorted.plot(kind='bar')\n",
    "plt.show()"
   ]
  },
  {
   "cell_type": "code",
   "execution_count": null,
   "metadata": {},
   "outputs": [],
   "source": [
    "# Find records with missing group names\n",
    "df[['Group']][pd.isnull(df['Group']) == True]"
   ]
  },
  {
   "cell_type": "code",
   "execution_count": null,
   "metadata": {},
   "outputs": [],
   "source": [
    "# Let's find the total number of guests:\n",
    "df['Raw_Guest_List'].describe()"
   ]
  },
  {
   "cell_type": "code",
   "execution_count": null,
   "metadata": {},
   "outputs": [],
   "source": [
    "# Filter for musicians.  Show the musician names:\n",
    "df[['Raw_Guest_List', 'Group']][df['Group'] == 'Musician']"
   ]
  },
  {
   "cell_type": "code",
   "execution_count": null,
   "metadata": {},
   "outputs": [],
   "source": [
    "# Find information about Musicians:\n",
    "df[['Raw_Guest_List']][df['Group'] == 'Musician'].describe()"
   ]
  },
  {
   "cell_type": "code",
   "execution_count": null,
   "metadata": {},
   "outputs": [],
   "source": [
    "# List the unique musicians:\n",
    "uniqueMusicians = df['Raw_Guest_List'][df['Group'] == 'Musician'].unique()\n",
    "uniqueMusicians"
   ]
  },
  {
   "cell_type": "code",
   "execution_count": null,
   "metadata": {},
   "outputs": [],
   "source": [
    "# We can explicitly find the number of unique musicians:\n",
    "len(uniqueMusicians)"
   ]
  },
  {
   "cell_type": "code",
   "execution_count": null,
   "metadata": {},
   "outputs": [],
   "source": [
    "# Find the guests that appeared in 2010\n",
    "# Option 1 (use the year column):\n",
    "df[['Raw_Guest_List']][df['Year'] == 2010]"
   ]
  },
  {
   "cell_type": "code",
   "execution_count": null,
   "metadata": {},
   "outputs": [],
   "source": [
    "# Option 2 (use the date index):\n",
    "print(df[['Raw_Guest_List', 'Group']].loc['2010-1-1':'2010-12-31'])"
   ]
  },
  {
   "cell_type": "code",
   "execution_count": null,
   "metadata": {},
   "outputs": [],
   "source": [
    "# Find the guests that appeared in 2010 and were actors\n",
    "df[['Raw_Guest_List', 'Group']][df['Group'] == 'Acting'].loc['2010-1-1':'2010-12-31']"
   ]
  },
  {
   "cell_type": "code",
   "execution_count": null,
   "metadata": {},
   "outputs": [],
   "source": [
    "df[['Raw_Guest_List', 'Group']][df['Group'] == 'Acting'].loc['2010-1-1':'2010-12-31'].describe()"
   ]
  },
  {
   "cell_type": "code",
   "execution_count": null,
   "metadata": {},
   "outputs": [],
   "source": [
    "# Find the guests that appeared in November and were politicians\n",
    "df[['Raw_Guest_List']][(df['Month'] == 11) & (df['Group'] == 'Politician')].describe()"
   ]
  },
  {
   "cell_type": "code",
   "execution_count": null,
   "metadata": {},
   "outputs": [],
   "source": [
    "# Count the number of shows by weekday\n",
    "weekday_counts = df.groupby('Weekday').size()\n",
    "weekday_counts"
   ]
  },
  {
   "cell_type": "code",
   "execution_count": null,
   "metadata": {},
   "outputs": [],
   "source": [
    "# Plot the number of shows by day of the week:\n",
    "weekday_counts.plot.bar(color='blue');\n",
    "\n",
    "# This figure will be confusing if people don't know that \n",
    "# \"0\" is \"Monday\"."
   ]
  },
  {
   "cell_type": "code",
   "execution_count": null,
   "metadata": {},
   "outputs": [],
   "source": [
    "# Let's try grouping by the column that has the name of the weekday:\n",
    "weekday_name_counts = df.groupby('WeekdayName').size()\n",
    "weekday_name_counts"
   ]
  },
  {
   "cell_type": "code",
   "execution_count": null,
   "metadata": {},
   "outputs": [],
   "source": [
    "# If we don't specify an ordering for the x-axis, we get\n",
    "# a random order of weekdays:\n",
    "weekday_name_counts.plot.bar();"
   ]
  },
  {
   "cell_type": "code",
   "execution_count": null,
   "metadata": {},
   "outputs": [],
   "source": [
    "# Plot the number of shows by day of the week,\n",
    "# but use helpful x-axis names:\n",
    "\n",
    "# First, create a list with the order of days.\n",
    "# NOTE:  There were no shows on Saturday.\n",
    "weekdayList = ['Sunday', 'Monday', 'Tuesday', 'Wednesday', \\\n",
    "               'Thursday', 'Friday']\n",
    "\n",
    "# Now, plot in order of weekdayList:\n",
    "weekday_name_counts[weekdayList].plot.bar(color='blue');"
   ]
  },
  {
   "cell_type": "code",
   "execution_count": null,
   "metadata": {},
   "outputs": [],
   "source": [
    "# Find all unique occupations and groups:\n",
    "set(df['GoogleKnowlege_Occupation']).union(set(df['Group']))\n",
    "\n",
    "# This is simply the union of these two columns"
   ]
  },
  {
   "cell_type": "code",
   "execution_count": null,
   "metadata": {},
   "outputs": [],
   "source": [
    "# Find the number of unique occupations and groups:\n",
    "setOfUniques = set(df['GoogleKnowlege_Occupation']).union(set(df['Group']))\n",
    "len(setOfUniques)"
   ]
  },
  {
   "cell_type": "markdown",
   "metadata": {},
   "source": [
    "\n",
    "---\n",
    "\n",
    "## Example 3 -- Scraping HTML Tables\n",
    "\n",
    "*This material comes from Wes McKinney's textbook*"
   ]
  },
  {
   "cell_type": "code",
   "execution_count": null,
   "metadata": {},
   "outputs": [],
   "source": [
    "tables = pd.read_html('https://www.fdic.gov/bank/individual/failed/banklist.html')"
   ]
  },
  {
   "cell_type": "code",
   "execution_count": null,
   "metadata": {},
   "outputs": [],
   "source": [
    "# How many tables did we find on this webpage?\n",
    "len(tables)"
   ]
  },
  {
   "cell_type": "code",
   "execution_count": null,
   "metadata": {},
   "outputs": [],
   "source": [
    "# Our \"failure\" data will be in the first (and only) table:\n",
    "failures = tables[0]"
   ]
  },
  {
   "cell_type": "code",
   "execution_count": null,
   "metadata": {},
   "outputs": [],
   "source": [
    "failures.head()"
   ]
  },
  {
   "cell_type": "code",
   "execution_count": null,
   "metadata": {},
   "outputs": [],
   "source": [
    "# How many bank failures were there per year?\n",
    "close_timestamps = pd.to_datetime(failures['Closing Date'])\n",
    "close_timestamps.dt.year.value_counts()"
   ]
  },
  {
   "cell_type": "code",
   "execution_count": null,
   "metadata": {},
   "outputs": [],
   "source": [
    "# Which bank failures were in NY?\n",
    "failures[failures['ST'] == 'NY']"
   ]
  },
  {
   "cell_type": "code",
   "execution_count": null,
   "metadata": {},
   "outputs": [],
   "source": [
    "# How many bank failures were in NY?\n",
    "failures[failures['ST'] == 'NY']['ST'].count()"
   ]
  },
  {
   "cell_type": "markdown",
   "metadata": {},
   "source": [
    "\n",
    "---\n",
    "\n",
    "## Further Studying\n",
    "\n",
    "Check out https://realpython.com/python-data-cleaning-numpy-pandas/ for some more examples."
   ]
  }
 ],
 "metadata": {
  "kernelspec": {
   "display_name": "Python 3",
   "language": "python",
   "name": "python3"
  },
  "language_info": {
   "codemirror_mode": {
    "name": "ipython",
    "version": 3
   },
   "file_extension": ".py",
   "mimetype": "text/x-python",
   "name": "python",
   "nbconvert_exporter": "python",
   "pygments_lexer": "ipython3",
   "version": "3.7.1"
  }
 },
 "nbformat": 4,
 "nbformat_minor": 2
}
