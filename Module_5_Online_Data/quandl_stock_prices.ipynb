{
 "cells": [
  {
   "cell_type": "markdown",
   "metadata": {},
   "source": [
    "# Using Quandl to Capture Stock Prices\n",
    "\n",
    "This Jupyter notebook demonstrates how to capture US stock prices from quandl.com.\n",
    "\n",
    "Unfortunately, quandl has changed their pricing structure for stock prices.  The application programming interface (API) previously allowed free access to the latest stock prices.  Now, only stock information thru Dec 31, 2017, is available for free (you have to pay for data from 2018 onward).\n",
    "\n",
    "Regardless, this notebook gives a demonstration of how to dynamically import data directly from a source via an API (as opposed to explicitly downloading a data file).\n",
    "\n",
    "- Note:  Portions of this script are borrowed/adapted from https://stackoverflow.com/questions/36334665/how-to-plot-ohlc-candlestick-with-datetime-in-matplotlib\n",
    "\n",
    "---\n",
    "\n",
    "**Before continuing, you'll need to do the following:**\n",
    "\n",
    "1. Install the quandl python package:\n",
    "    ```\n",
    "    pip install quandl\n",
    "    ```\n",
    "    \n",
    "2. Get an API key from https://www.quandl.com/tools/python\n",
    "\n",
    "---"
   ]
  },
  {
   "cell_type": "code",
   "execution_count": 1,
   "metadata": {},
   "outputs": [],
   "source": [
    "# Enter your quandl API key here:\n",
    "QUANDLKEY = \"yourkeygoeshere\"      # <-- FIXME...put your API key here.\n",
    "\n",
    "# NOTE:  Here's how I like to store/use passwords for shared notebooks:\n",
    "#'''\n",
    "import os\n",
    "QUANDLKEY = os.environ['QUANDLKEY']\n",
    "#''';\n",
    "# For more info about system variables, scroll down to Section 4 of this link:\n",
    "# https://veroviz.org/documentation.html#installation"
   ]
  },
  {
   "cell_type": "code",
   "execution_count": 2,
   "metadata": {},
   "outputs": [],
   "source": [
    "# We'll need to import several libraries:\n",
    "import matplotlib.pyplot as plt\n",
    "import matplotlib.ticker as ticker\n",
    "import quandl\n",
    "import numpy as np\n",
    "import datetime as datetime"
   ]
  },
  {
   "cell_type": "code",
   "execution_count": 3,
   "metadata": {},
   "outputs": [],
   "source": [
    "# Provide your quandl API key:\n",
    "quandl.ApiConfig.api_key = QUANDLKEY"
   ]
  },
  {
   "cell_type": "code",
   "execution_count": 4,
   "metadata": {},
   "outputs": [],
   "source": [
    "# Specify a stock ticker symbol and a date range:\n",
    "# Use \"YYY-MM-DD\" format for dates.\n",
    "tickerSymbol = \"INTC\"\n",
    "startDate    = \"2017-12-01\"\n",
    "endDate      = \"2017-12-28\"\n",
    "\n",
    "# NOTE 1:  Your free API key will only provide access to data up to 2017-12-31\n",
    "# NOTE 2:  See https://www.nyse.com/listings_directory/stock for a list of ticker symbols"
   ]
  },
  {
   "cell_type": "code",
   "execution_count": 5,
   "metadata": {},
   "outputs": [],
   "source": [
    "# In this cell we are defining a function to help us format the x-axis of our plot.\n",
    "def myDate(x,pos):\n",
    "    try:\n",
    "        return xdate[pos]\n",
    "    except IndexError:\n",
    "        return ''"
   ]
  },
  {
   "cell_type": "code",
   "execution_count": 6,
   "metadata": {},
   "outputs": [],
   "source": [
    "# We will now use the quandl library to query for stock data.\n",
    "# `quotes` will be a numpy ndarray.\n",
    "dataSource = \"EOD/%s\" % (tickerSymbol)\n",
    "quotes = quandl.get(dataSource, start_date=startDate, end_date=endDate, returns=\"numpy\")"
   ]
  },
  {
   "cell_type": "code",
   "execution_count": 7,
   "metadata": {},
   "outputs": [
    {
     "name": "stdout",
     "output_type": "stream",
     "text": [
      "[('2017-12-01T00:00:00.000000000', 44.73, 44.84, 43.53 , 44.68, 26656272., 0., 1., 42.37052466, 42.47472224, 41.2338238 , 42.32316212, 26656272.)\n",
      " ('2017-12-04T00:00:00.000000000', 45.02, 45.3 , 44.33 , 44.49, 28000791., 0., 1., 42.64522737, 42.91045757, 41.99162437, 42.14318449, 28000791.)\n",
      " ('2017-12-05T00:00:00.000000000', 44.6 , 44.9 , 43.23 , 43.44, 30626850., 0., 1., 42.24738207, 42.53155728, 40.94964858, 41.14857123, 30626850.)\n",
      " ('2017-12-06T00:00:00.000000000', 43.14, 43.72, 42.67 , 43.45, 27710812., 0., 1., 40.86439602, 41.41380143, 40.41918818, 41.15804374, 27710812.)\n",
      " ('2017-12-07T00:00:00.000000000', 43.46, 43.6 , 42.78 , 43.08, 32708441., 0., 1., 41.16751625, 41.30013135, 40.52338576, 40.80756097, 32708441.)\n",
      " ('2017-12-08T00:00:00.000000000', 43.35, 43.58, 43.11 , 43.35, 23154749., 0., 1., 41.06331867, 41.28118633, 40.83597849, 41.06331867, 23154749.)\n",
      " ('2017-12-11T00:00:00.000000000', 43.28, 43.78, 43.25 , 43.66, 20425900., 0., 1., 40.99701112, 41.47063648, 40.9685936 , 41.35696639, 20425900.)\n",
      " ('2017-12-12T00:00:00.000000000', 43.47, 43.62, 43.08 , 43.33, 16557398., 0., 1., 41.17698875, 41.31907636, 40.80756097, 41.04437365, 16557398.)\n",
      " ('2017-12-13T00:00:00.000000000', 43.65, 43.66, 43.24 , 43.34, 21399460., 0., 1., 41.34749388, 41.35696639, 40.95912109, 41.05384616, 21399460.)\n",
      " ('2017-12-14T00:00:00.000000000', 43.43, 43.57, 43.015, 43.26, 19644917., 0., 1., 41.13909872, 41.27171383, 40.74598968, 40.9780661 , 19644917.)\n",
      " ('2017-12-15T00:00:00.000000000', 43.4 , 44.84, 43.07 , 44.56, 47476952., 0., 1., 41.1106812 , 42.47472224, 40.79808847, 42.20949204, 47476952.)\n",
      " ('2017-12-18T00:00:00.000000000', 45.15, 46.35, 45.04 , 46.26, 50369327., 0., 1., 42.76836996, 43.90507082, 42.66417238, 43.81981826, 50369327.)\n",
      " ('2017-12-19T00:00:00.000000000', 46.3 , 47.26, 45.89 , 47.04, 41421116., 0., 1., 43.85770829, 44.76706898, 43.46933549, 44.55867382, 41421116.)\n",
      " ('2017-12-20T00:00:00.000000000', 47.47, 47.64, 46.66 , 47.56, 40934978., 0., 1., 44.96599163, 45.12702425, 44.19871855, 45.05124419, 40934978.)\n",
      " ('2017-12-21T00:00:00.000000000', 47.54, 47.59, 46.56 , 46.76, 42963451., 0., 1., 45.03229918, 45.07966172, 44.10399348, 44.29344362, 42963451.)\n",
      " ('2017-12-22T00:00:00.000000000', 46.33, 47.02, 46.02 , 46.7 , 33913537., 0., 1., 43.88612581, 44.53972881, 43.59247809, 44.23660858, 33913537.)\n",
      " ('2017-12-26T00:00:00.000000000', 46.28, 46.47, 45.95 , 46.08, 15533328., 0., 1., 43.83876327, 44.01874091, 43.52617054, 43.64931313, 15533328.)\n",
      " ('2017-12-27T00:00:00.000000000', 46.11, 46.36, 46.   , 46.11, 13359671., 0., 1., 43.67773065, 43.91454333, 43.57353307, 43.67773065, 13359671.)\n",
      " ('2017-12-28T00:00:00.000000000', 46.36, 46.36, 45.95 , 46.22,  9504372., 0., 1., 43.91454333, 43.91454333, 43.52617054, 43.78192823,  9504372.)]\n"
     ]
    }
   ],
   "source": [
    "# You may want to uncomment some of the lines below to get a better\n",
    "# understanding of the data captured in `quotes`.\n",
    "\n",
    "'''\n",
    "print(quotes)\n",
    "print(quotes.dtype)\n",
    "print(quotes['Open'])\n",
    "print(quotes[0]['Open'])\n",
    "print(quotes[0][1])\n",
    "''';\n",
    "print(quotes)"
   ]
  },
  {
   "cell_type": "code",
   "execution_count": 8,
   "metadata": {},
   "outputs": [],
   "source": [
    "# Sort the quotes in ascending order of date.\n",
    "# This will sort \"in place\"\n",
    "quotes.sort(order=['Date'])"
   ]
  },
  {
   "cell_type": "code",
   "execution_count": 9,
   "metadata": {},
   "outputs": [],
   "source": [
    "# Convert the 'Date' column to a datetime\n",
    "quotes['Date'].dtype = np.datetime64\n",
    "quotes['Date']       = quotes['Date'].astype('datetime64', copy=False)"
   ]
  },
  {
   "cell_type": "code",
   "execution_count": 24,
   "metadata": {},
   "outputs": [
    {
     "data": {
      "image/png": "[encoded data removed]",
      "text/plain": [
       "<Figure size 432x288 with 1 Axes>"
      ]
     },
     "metadata": {
      "needs_background": "light"
     },
     "output_type": "display_data"
    }
   ],
   "source": [
    "# In this cell we'll create a \"candlestick\" plot of the stock prices.\n",
    "# Each day will be shown with a bar.\n",
    "# Red (green) bars indicate that the stock closed lower (higher) than it opened.\n",
    "# The thick bars show the opening and closing prices.\n",
    "# The thin lines show the high and low prices.\n",
    "\n",
    "fig, ax = plt.subplots()\n",
    "\n",
    "# Specify the thickness for the thick bars and thin lines:\n",
    "thickWidth = 0.8\n",
    "thinWidth  = 0.1\n",
    "\n",
    "# Create 2 numpy arrays, one for days where the stock closed higher than it opened, and vice versa:\n",
    "pricesup   = quotes[quotes['Close'] >= quotes['Open']]\n",
    "pricesdown = quotes[quotes['Close'] < quotes['Open']]\n",
    "\n",
    "# Create a new array that will hold the timestamp for each day.\n",
    "# We have to change the formatting so it shows properly on the plot.\n",
    "xdate = [datetime.datetime.fromtimestamp(i.tolist()/1e9) for i in quotes['Date']]\n",
    "\n",
    "# Specify the maximum number of labels to show on the plot.\n",
    "# Sometimes you'll get fewer than this number shown.\n",
    "ax.xaxis.set_major_locator(ticker.MaxNLocator(6))\n",
    "\n",
    "# Plot green bars for days where closing price is higher than opening price:\n",
    "plt.bar(pricesup['Date'], pricesup['Close'] - pricesup['Open'], thickWidth, bottom = pricesup['Open'], color='g')\n",
    "plt.bar(pricesup['Date'], pricesup['High'] - pricesup['Close'], thinWidth, bottom = pricesup['Close'], color='g')\n",
    "plt.bar(pricesup['Date'], pricesup['Low'] - pricesup['Open'], thinWidth, bottom = pricesup['Open'], color='g')\n",
    "\n",
    "# Plot red bars for days where closing price is lower than opening price:\n",
    "plt.bar(pricesdown['Date'], pricesdown['Open'] - pricesdown['Close'], thickWidth, bottom = pricesdown['Close'], color='r')\n",
    "plt.bar(pricesdown['Date'], pricesdown['High'] - pricesdown['Open'], thinWidth, bottom = pricesdown['Open'], color='r')\n",
    "plt.bar(pricesdown['Date'], pricesdown['Low'] - pricesdown['Close'], thinWidth, bottom = pricesdown['Close'], color='r')\n",
    "\n",
    "# Format the x-axis with angled labels.\n",
    "# `myDate` is a function that we defined above.\n",
    "ax.xaxis.set_major_formatter(ticker.FuncFormatter(myDate))\n",
    "\n",
    "fig.autofmt_xdate()\n",
    "fig.tight_layout()\n",
    "\n",
    "plt.show()"
   ]
  },
  {
   "cell_type": "code",
   "execution_count": 19,
   "metadata": {},
   "outputs": [],
   "source": [
    "plt.bar?"
   ]
  }
 ],
 "metadata": {
  "kernelspec": {
   "display_name": "Python 3",
   "language": "python",
   "name": "python3"
  },
  "language_info": {
   "codemirror_mode": {
    "name": "ipython",
    "version": 3
   },
   "file_extension": ".py",
   "mimetype": "text/x-python",
   "name": "python",
   "nbconvert_exporter": "python",
   "pygments_lexer": "ipython3",
   "version": "3.7.1"
  }
 },
 "nbformat": 4,
 "nbformat_minor": 2
}
